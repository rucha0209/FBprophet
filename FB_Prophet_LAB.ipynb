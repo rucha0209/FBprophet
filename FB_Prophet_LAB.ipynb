{
  "nbformat": 4,
  "nbformat_minor": 0,
  "metadata": {
    "kernelspec": {
      "display_name": "Python 3",
      "language": "python",
      "name": "python3"
    },
    "language_info": {
      "codemirror_mode": {
        "name": "ipython",
        "version": 3
      },
      "file_extension": ".py",
      "mimetype": "text/x-python",
      "name": "python",
      "nbconvert_exporter": "python",
      "pygments_lexer": "ipython3",
      "version": "3.7.4"
    },
    "colab": {
      "name": "FB Prophet - LAB.ipynb",
      "provenance": [],
      "collapsed_sections": [],
      "include_colab_link": true
    }
  },
  "cells": [
    {
      "cell_type": "markdown",
      "metadata": {
        "id": "view-in-github",
        "colab_type": "text"
      },
      "source": [
        "<a href=\"https://colab.research.google.com/github/rucha0209/FBprophet/blob/main/FB_Prophet_LAB.ipynb\" target=\"_parent\"><img src=\"https://colab.research.google.com/assets/colab-badge.svg\" alt=\"Open In Colab\"/></a>"
      ]
    },
    {
      "cell_type": "markdown",
      "metadata": {
        "id": "BWQrw0CFgRgA"
      },
      "source": [
        "## **Use of FBprophet**"
      ]
    },
    {
      "cell_type": "code",
      "metadata": {
        "id": "Rm-C1pGxJaIR"
      },
      "source": [
        "import numpy as np\n",
        "import pandas as pd\n",
        "from pandas_datareader import data as wb\n",
        "import matplotlib.pyplot as plt\n",
        "from fbprophet import Prophet\n",
        "plt.style.use('fivethirtyeight')"
      ],
      "execution_count": null,
      "outputs": []
    },
    {
      "cell_type": "code",
      "metadata": {
        "id": "laRkYTMOJaIV"
      },
      "source": [
        "df = wb.DataReader('GC=F', data_source='yahoo', start='2016-1-1')"
      ],
      "execution_count": null,
      "outputs": []
    },
    {
      "cell_type": "code",
      "metadata": {
        "colab": {
          "base_uri": "https://localhost:8080/",
          "height": 431
        },
        "id": "0ahJUCHEJaIX",
        "outputId": "4fbad570-9397-4395-87f3-5737bf2b1f0c"
      },
      "source": [
        "df"
      ],
      "execution_count": null,
      "outputs": [
        {
          "output_type": "execute_result",
          "data": {
            "text/html": [
              "<div>\n",
              "<style scoped>\n",
              "    .dataframe tbody tr th:only-of-type {\n",
              "        vertical-align: middle;\n",
              "    }\n",
              "\n",
              "    .dataframe tbody tr th {\n",
              "        vertical-align: top;\n",
              "    }\n",
              "\n",
              "    .dataframe thead th {\n",
              "        text-align: right;\n",
              "    }\n",
              "</style>\n",
              "<table border=\"1\" class=\"dataframe\">\n",
              "  <thead>\n",
              "    <tr style=\"text-align: right;\">\n",
              "      <th></th>\n",
              "      <th>High</th>\n",
              "      <th>Low</th>\n",
              "      <th>Open</th>\n",
              "      <th>Close</th>\n",
              "      <th>Volume</th>\n",
              "      <th>Adj Close</th>\n",
              "    </tr>\n",
              "    <tr>\n",
              "      <th>Date</th>\n",
              "      <th></th>\n",
              "      <th></th>\n",
              "      <th></th>\n",
              "      <th></th>\n",
              "      <th></th>\n",
              "      <th></th>\n",
              "    </tr>\n",
              "  </thead>\n",
              "  <tbody>\n",
              "    <tr>\n",
              "      <th>2016-01-04</th>\n",
              "      <td>1082.500000</td>\n",
              "      <td>1063.199951</td>\n",
              "      <td>1063.400024</td>\n",
              "      <td>1075.099976</td>\n",
              "      <td>143.0</td>\n",
              "      <td>1075.099976</td>\n",
              "    </tr>\n",
              "    <tr>\n",
              "      <th>2016-01-05</th>\n",
              "      <td>1081.500000</td>\n",
              "      <td>1075.300049</td>\n",
              "      <td>1075.599976</td>\n",
              "      <td>1078.400024</td>\n",
              "      <td>82.0</td>\n",
              "      <td>1078.400024</td>\n",
              "    </tr>\n",
              "    <tr>\n",
              "      <th>2016-01-06</th>\n",
              "      <td>1093.699951</td>\n",
              "      <td>1081.599976</td>\n",
              "      <td>1081.599976</td>\n",
              "      <td>1091.900024</td>\n",
              "      <td>52.0</td>\n",
              "      <td>1091.900024</td>\n",
              "    </tr>\n",
              "    <tr>\n",
              "      <th>2016-01-07</th>\n",
              "      <td>1109.400024</td>\n",
              "      <td>1091.599976</td>\n",
              "      <td>1091.599976</td>\n",
              "      <td>1107.699951</td>\n",
              "      <td>122.0</td>\n",
              "      <td>1107.699951</td>\n",
              "    </tr>\n",
              "    <tr>\n",
              "      <th>2016-01-08</th>\n",
              "      <td>1111.099976</td>\n",
              "      <td>1093.000000</td>\n",
              "      <td>1111.099976</td>\n",
              "      <td>1097.800049</td>\n",
              "      <td>98.0</td>\n",
              "      <td>1097.800049</td>\n",
              "    </tr>\n",
              "    <tr>\n",
              "      <th>...</th>\n",
              "      <td>...</td>\n",
              "      <td>...</td>\n",
              "      <td>...</td>\n",
              "      <td>...</td>\n",
              "      <td>...</td>\n",
              "      <td>...</td>\n",
              "    </tr>\n",
              "    <tr>\n",
              "      <th>2021-03-16</th>\n",
              "      <td>1733.900024</td>\n",
              "      <td>1726.000000</td>\n",
              "      <td>1732.300049</td>\n",
              "      <td>1730.599976</td>\n",
              "      <td>729.0</td>\n",
              "      <td>1730.599976</td>\n",
              "    </tr>\n",
              "    <tr>\n",
              "      <th>2021-03-17</th>\n",
              "      <td>1750.099976</td>\n",
              "      <td>1725.599976</td>\n",
              "      <td>1735.300049</td>\n",
              "      <td>1726.800049</td>\n",
              "      <td>488.0</td>\n",
              "      <td>1726.800049</td>\n",
              "    </tr>\n",
              "    <tr>\n",
              "      <th>2021-03-18</th>\n",
              "      <td>1750.300049</td>\n",
              "      <td>1721.800049</td>\n",
              "      <td>1745.800049</td>\n",
              "      <td>1732.199951</td>\n",
              "      <td>138.0</td>\n",
              "      <td>1732.199951</td>\n",
              "    </tr>\n",
              "    <tr>\n",
              "      <th>2021-03-19</th>\n",
              "      <td>1742.199951</td>\n",
              "      <td>1733.599976</td>\n",
              "      <td>1742.199951</td>\n",
              "      <td>1741.400024</td>\n",
              "      <td>138.0</td>\n",
              "      <td>1741.400024</td>\n",
              "    </tr>\n",
              "    <tr>\n",
              "      <th>2021-03-19</th>\n",
              "      <td>1746.099976</td>\n",
              "      <td>1727.099976</td>\n",
              "      <td>1733.699951</td>\n",
              "      <td>1743.900024</td>\n",
              "      <td>210032.0</td>\n",
              "      <td>1743.900024</td>\n",
              "    </tr>\n",
              "  </tbody>\n",
              "</table>\n",
              "<p>1300 rows × 6 columns</p>\n",
              "</div>"
            ],
            "text/plain": [
              "                   High          Low  ...    Volume    Adj Close\n",
              "Date                                  ...                       \n",
              "2016-01-04  1082.500000  1063.199951  ...     143.0  1075.099976\n",
              "2016-01-05  1081.500000  1075.300049  ...      82.0  1078.400024\n",
              "2016-01-06  1093.699951  1081.599976  ...      52.0  1091.900024\n",
              "2016-01-07  1109.400024  1091.599976  ...     122.0  1107.699951\n",
              "2016-01-08  1111.099976  1093.000000  ...      98.0  1097.800049\n",
              "...                 ...          ...  ...       ...          ...\n",
              "2021-03-16  1733.900024  1726.000000  ...     729.0  1730.599976\n",
              "2021-03-17  1750.099976  1725.599976  ...     488.0  1726.800049\n",
              "2021-03-18  1750.300049  1721.800049  ...     138.0  1732.199951\n",
              "2021-03-19  1742.199951  1733.599976  ...     138.0  1741.400024\n",
              "2021-03-19  1746.099976  1727.099976  ...  210032.0  1743.900024\n",
              "\n",
              "[1300 rows x 6 columns]"
            ]
          },
          "metadata": {
            "tags": []
          },
          "execution_count": 4
        }
      ]
    },
    {
      "cell_type": "code",
      "metadata": {
        "colab": {
          "base_uri": "https://localhost:8080/",
          "height": 284
        },
        "id": "JocjePUGJaIa",
        "outputId": "f6e15e7c-0a22-48b4-b09e-d681992d01de"
      },
      "source": [
        "df.describe()"
      ],
      "execution_count": null,
      "outputs": [
        {
          "output_type": "execute_result",
          "data": {
            "text/html": [
              "<div>\n",
              "<style scoped>\n",
              "    .dataframe tbody tr th:only-of-type {\n",
              "        vertical-align: middle;\n",
              "    }\n",
              "\n",
              "    .dataframe tbody tr th {\n",
              "        vertical-align: top;\n",
              "    }\n",
              "\n",
              "    .dataframe thead th {\n",
              "        text-align: right;\n",
              "    }\n",
              "</style>\n",
              "<table border=\"1\" class=\"dataframe\">\n",
              "  <thead>\n",
              "    <tr style=\"text-align: right;\">\n",
              "      <th></th>\n",
              "      <th>High</th>\n",
              "      <th>Low</th>\n",
              "      <th>Open</th>\n",
              "      <th>Close</th>\n",
              "      <th>Volume</th>\n",
              "      <th>Adj Close</th>\n",
              "    </tr>\n",
              "  </thead>\n",
              "  <tbody>\n",
              "    <tr>\n",
              "      <th>count</th>\n",
              "      <td>1300.000000</td>\n",
              "      <td>1300.000000</td>\n",
              "      <td>1300.000000</td>\n",
              "      <td>1300.000000</td>\n",
              "      <td>1300.000000</td>\n",
              "      <td>1300.000000</td>\n",
              "    </tr>\n",
              "    <tr>\n",
              "      <th>mean</th>\n",
              "      <td>1412.473693</td>\n",
              "      <td>1399.134924</td>\n",
              "      <td>1405.776308</td>\n",
              "      <td>1405.823154</td>\n",
              "      <td>6205.066154</td>\n",
              "      <td>1405.823154</td>\n",
              "    </tr>\n",
              "    <tr>\n",
              "      <th>std</th>\n",
              "      <td>231.789137</td>\n",
              "      <td>226.400490</td>\n",
              "      <td>229.224543</td>\n",
              "      <td>229.041893</td>\n",
              "      <td>34133.973116</td>\n",
              "      <td>229.041893</td>\n",
              "    </tr>\n",
              "    <tr>\n",
              "      <th>min</th>\n",
              "      <td>1081.500000</td>\n",
              "      <td>1063.199951</td>\n",
              "      <td>1063.400024</td>\n",
              "      <td>1073.900024</td>\n",
              "      <td>0.000000</td>\n",
              "      <td>1073.900024</td>\n",
              "    </tr>\n",
              "    <tr>\n",
              "      <th>25%</th>\n",
              "      <td>1255.875031</td>\n",
              "      <td>1247.275024</td>\n",
              "      <td>1251.699951</td>\n",
              "      <td>1251.599976</td>\n",
              "      <td>37.000000</td>\n",
              "      <td>1251.599976</td>\n",
              "    </tr>\n",
              "    <tr>\n",
              "      <th>50%</th>\n",
              "      <td>1311.099976</td>\n",
              "      <td>1302.450012</td>\n",
              "      <td>1307.250000</td>\n",
              "      <td>1306.850037</td>\n",
              "      <td>151.500000</td>\n",
              "      <td>1306.850037</td>\n",
              "    </tr>\n",
              "    <tr>\n",
              "      <th>75%</th>\n",
              "      <td>1514.450043</td>\n",
              "      <td>1498.100006</td>\n",
              "      <td>1507.549988</td>\n",
              "      <td>1507.300049</td>\n",
              "      <td>518.750000</td>\n",
              "      <td>1507.300049</td>\n",
              "    </tr>\n",
              "    <tr>\n",
              "      <th>max</th>\n",
              "      <td>2063.000000</td>\n",
              "      <td>2040.000000</td>\n",
              "      <td>2045.500000</td>\n",
              "      <td>2051.500000</td>\n",
              "      <td>386334.000000</td>\n",
              "      <td>2051.500000</td>\n",
              "    </tr>\n",
              "  </tbody>\n",
              "</table>\n",
              "</div>"
            ],
            "text/plain": [
              "              High          Low  ...         Volume    Adj Close\n",
              "count  1300.000000  1300.000000  ...    1300.000000  1300.000000\n",
              "mean   1412.473693  1399.134924  ...    6205.066154  1405.823154\n",
              "std     231.789137   226.400490  ...   34133.973116   229.041893\n",
              "min    1081.500000  1063.199951  ...       0.000000  1073.900024\n",
              "25%    1255.875031  1247.275024  ...      37.000000  1251.599976\n",
              "50%    1311.099976  1302.450012  ...     151.500000  1306.850037\n",
              "75%    1514.450043  1498.100006  ...     518.750000  1507.300049\n",
              "max    2063.000000  2040.000000  ...  386334.000000  2051.500000\n",
              "\n",
              "[8 rows x 6 columns]"
            ]
          },
          "metadata": {
            "tags": []
          },
          "execution_count": 5
        }
      ]
    },
    {
      "cell_type": "markdown",
      "metadata": {
        "id": "eKchkKSrJaIb"
      },
      "source": [
        "**Steps for using Prophet:**\n",
        "1.   Make sure you replace closing price for y and date for ds.\n",
        "2.   Fit that dataframe to Prophet in order to detect future patterns.\n",
        "3. Predict the upper and lower prices of the closing price"
      ]
    },
    {
      "cell_type": "code",
      "metadata": {
        "id": "gScIUFYkJaIc"
      },
      "source": [
        "# Add Two new columans ds & Y (closing price ( we will do forecasting on this price) for y and date for ds.)\n",
        "df=df.reset_index()\n",
        "df[['ds','y']]= df[['Date','Close']]"
      ],
      "execution_count": null,
      "outputs": []
    },
    {
      "cell_type": "code",
      "metadata": {
        "colab": {
          "base_uri": "https://localhost:8080/",
          "height": 402
        },
        "id": "Q3lBOlWpJaId",
        "outputId": "02e70754-65a1-4f46-ddc1-82475d8beb64"
      },
      "source": [
        "df"
      ],
      "execution_count": null,
      "outputs": [
        {
          "output_type": "execute_result",
          "data": {
            "text/html": [
              "<div>\n",
              "<style scoped>\n",
              "    .dataframe tbody tr th:only-of-type {\n",
              "        vertical-align: middle;\n",
              "    }\n",
              "\n",
              "    .dataframe tbody tr th {\n",
              "        vertical-align: top;\n",
              "    }\n",
              "\n",
              "    .dataframe thead th {\n",
              "        text-align: right;\n",
              "    }\n",
              "</style>\n",
              "<table border=\"1\" class=\"dataframe\">\n",
              "  <thead>\n",
              "    <tr style=\"text-align: right;\">\n",
              "      <th></th>\n",
              "      <th>Date</th>\n",
              "      <th>High</th>\n",
              "      <th>Low</th>\n",
              "      <th>Open</th>\n",
              "      <th>Close</th>\n",
              "      <th>Volume</th>\n",
              "      <th>Adj Close</th>\n",
              "      <th>ds</th>\n",
              "      <th>y</th>\n",
              "    </tr>\n",
              "  </thead>\n",
              "  <tbody>\n",
              "    <tr>\n",
              "      <th>0</th>\n",
              "      <td>2016-01-04</td>\n",
              "      <td>1082.500000</td>\n",
              "      <td>1063.199951</td>\n",
              "      <td>1063.400024</td>\n",
              "      <td>1075.099976</td>\n",
              "      <td>143.0</td>\n",
              "      <td>1075.099976</td>\n",
              "      <td>2016-01-04</td>\n",
              "      <td>1075.099976</td>\n",
              "    </tr>\n",
              "    <tr>\n",
              "      <th>1</th>\n",
              "      <td>2016-01-05</td>\n",
              "      <td>1081.500000</td>\n",
              "      <td>1075.300049</td>\n",
              "      <td>1075.599976</td>\n",
              "      <td>1078.400024</td>\n",
              "      <td>82.0</td>\n",
              "      <td>1078.400024</td>\n",
              "      <td>2016-01-05</td>\n",
              "      <td>1078.400024</td>\n",
              "    </tr>\n",
              "    <tr>\n",
              "      <th>2</th>\n",
              "      <td>2016-01-06</td>\n",
              "      <td>1093.699951</td>\n",
              "      <td>1081.599976</td>\n",
              "      <td>1081.599976</td>\n",
              "      <td>1091.900024</td>\n",
              "      <td>52.0</td>\n",
              "      <td>1091.900024</td>\n",
              "      <td>2016-01-06</td>\n",
              "      <td>1091.900024</td>\n",
              "    </tr>\n",
              "    <tr>\n",
              "      <th>3</th>\n",
              "      <td>2016-01-07</td>\n",
              "      <td>1109.400024</td>\n",
              "      <td>1091.599976</td>\n",
              "      <td>1091.599976</td>\n",
              "      <td>1107.699951</td>\n",
              "      <td>122.0</td>\n",
              "      <td>1107.699951</td>\n",
              "      <td>2016-01-07</td>\n",
              "      <td>1107.699951</td>\n",
              "    </tr>\n",
              "    <tr>\n",
              "      <th>4</th>\n",
              "      <td>2016-01-08</td>\n",
              "      <td>1111.099976</td>\n",
              "      <td>1093.000000</td>\n",
              "      <td>1111.099976</td>\n",
              "      <td>1097.800049</td>\n",
              "      <td>98.0</td>\n",
              "      <td>1097.800049</td>\n",
              "      <td>2016-01-08</td>\n",
              "      <td>1097.800049</td>\n",
              "    </tr>\n",
              "    <tr>\n",
              "      <th>...</th>\n",
              "      <td>...</td>\n",
              "      <td>...</td>\n",
              "      <td>...</td>\n",
              "      <td>...</td>\n",
              "      <td>...</td>\n",
              "      <td>...</td>\n",
              "      <td>...</td>\n",
              "      <td>...</td>\n",
              "      <td>...</td>\n",
              "    </tr>\n",
              "    <tr>\n",
              "      <th>1295</th>\n",
              "      <td>2021-03-16</td>\n",
              "      <td>1733.900024</td>\n",
              "      <td>1726.000000</td>\n",
              "      <td>1732.300049</td>\n",
              "      <td>1730.599976</td>\n",
              "      <td>729.0</td>\n",
              "      <td>1730.599976</td>\n",
              "      <td>2021-03-16</td>\n",
              "      <td>1730.599976</td>\n",
              "    </tr>\n",
              "    <tr>\n",
              "      <th>1296</th>\n",
              "      <td>2021-03-17</td>\n",
              "      <td>1750.099976</td>\n",
              "      <td>1725.599976</td>\n",
              "      <td>1735.300049</td>\n",
              "      <td>1726.800049</td>\n",
              "      <td>488.0</td>\n",
              "      <td>1726.800049</td>\n",
              "      <td>2021-03-17</td>\n",
              "      <td>1726.800049</td>\n",
              "    </tr>\n",
              "    <tr>\n",
              "      <th>1297</th>\n",
              "      <td>2021-03-18</td>\n",
              "      <td>1750.300049</td>\n",
              "      <td>1721.800049</td>\n",
              "      <td>1745.800049</td>\n",
              "      <td>1732.199951</td>\n",
              "      <td>138.0</td>\n",
              "      <td>1732.199951</td>\n",
              "      <td>2021-03-18</td>\n",
              "      <td>1732.199951</td>\n",
              "    </tr>\n",
              "    <tr>\n",
              "      <th>1298</th>\n",
              "      <td>2021-03-19</td>\n",
              "      <td>1742.199951</td>\n",
              "      <td>1733.599976</td>\n",
              "      <td>1742.199951</td>\n",
              "      <td>1741.400024</td>\n",
              "      <td>138.0</td>\n",
              "      <td>1741.400024</td>\n",
              "      <td>2021-03-19</td>\n",
              "      <td>1741.400024</td>\n",
              "    </tr>\n",
              "    <tr>\n",
              "      <th>1299</th>\n",
              "      <td>2021-03-19</td>\n",
              "      <td>1746.099976</td>\n",
              "      <td>1727.099976</td>\n",
              "      <td>1733.699951</td>\n",
              "      <td>1743.900024</td>\n",
              "      <td>210032.0</td>\n",
              "      <td>1743.900024</td>\n",
              "      <td>2021-03-19</td>\n",
              "      <td>1743.900024</td>\n",
              "    </tr>\n",
              "  </tbody>\n",
              "</table>\n",
              "<p>1300 rows × 9 columns</p>\n",
              "</div>"
            ],
            "text/plain": [
              "           Date         High          Low  ...    Adj Close         ds            y\n",
              "0    2016-01-04  1082.500000  1063.199951  ...  1075.099976 2016-01-04  1075.099976\n",
              "1    2016-01-05  1081.500000  1075.300049  ...  1078.400024 2016-01-05  1078.400024\n",
              "2    2016-01-06  1093.699951  1081.599976  ...  1091.900024 2016-01-06  1091.900024\n",
              "3    2016-01-07  1109.400024  1091.599976  ...  1107.699951 2016-01-07  1107.699951\n",
              "4    2016-01-08  1111.099976  1093.000000  ...  1097.800049 2016-01-08  1097.800049\n",
              "...         ...          ...          ...  ...          ...        ...          ...\n",
              "1295 2021-03-16  1733.900024  1726.000000  ...  1730.599976 2021-03-16  1730.599976\n",
              "1296 2021-03-17  1750.099976  1725.599976  ...  1726.800049 2021-03-17  1726.800049\n",
              "1297 2021-03-18  1750.300049  1721.800049  ...  1732.199951 2021-03-18  1732.199951\n",
              "1298 2021-03-19  1742.199951  1733.599976  ...  1741.400024 2021-03-19  1741.400024\n",
              "1299 2021-03-19  1746.099976  1727.099976  ...  1743.900024 2021-03-19  1743.900024\n",
              "\n",
              "[1300 rows x 9 columns]"
            ]
          },
          "metadata": {
            "tags": []
          },
          "execution_count": 7
        }
      ]
    },
    {
      "cell_type": "code",
      "metadata": {
        "id": "Jc77TyesJaIe"
      },
      "source": [
        "model=Prophet()"
      ],
      "execution_count": null,
      "outputs": []
    },
    {
      "cell_type": "code",
      "metadata": {
        "id": "CrUUivNIJaIf"
      },
      "source": [
        "# drop the columans\n",
        "prophet_df=df.drop(['Date','High','Low','Open','Close','Volume','Adj Close'], axis=1)"
      ],
      "execution_count": null,
      "outputs": []
    },
    {
      "cell_type": "code",
      "metadata": {
        "colab": {
          "base_uri": "https://localhost:8080/",
          "height": 402
        },
        "id": "Rd3I09n4JaIg",
        "outputId": "f85132fd-4e7d-436a-962f-e88b527fe363"
      },
      "source": [
        "prophet_df"
      ],
      "execution_count": null,
      "outputs": [
        {
          "output_type": "execute_result",
          "data": {
            "text/html": [
              "<div>\n",
              "<style scoped>\n",
              "    .dataframe tbody tr th:only-of-type {\n",
              "        vertical-align: middle;\n",
              "    }\n",
              "\n",
              "    .dataframe tbody tr th {\n",
              "        vertical-align: top;\n",
              "    }\n",
              "\n",
              "    .dataframe thead th {\n",
              "        text-align: right;\n",
              "    }\n",
              "</style>\n",
              "<table border=\"1\" class=\"dataframe\">\n",
              "  <thead>\n",
              "    <tr style=\"text-align: right;\">\n",
              "      <th></th>\n",
              "      <th>ds</th>\n",
              "      <th>y</th>\n",
              "    </tr>\n",
              "  </thead>\n",
              "  <tbody>\n",
              "    <tr>\n",
              "      <th>0</th>\n",
              "      <td>2016-01-04</td>\n",
              "      <td>1075.099976</td>\n",
              "    </tr>\n",
              "    <tr>\n",
              "      <th>1</th>\n",
              "      <td>2016-01-05</td>\n",
              "      <td>1078.400024</td>\n",
              "    </tr>\n",
              "    <tr>\n",
              "      <th>2</th>\n",
              "      <td>2016-01-06</td>\n",
              "      <td>1091.900024</td>\n",
              "    </tr>\n",
              "    <tr>\n",
              "      <th>3</th>\n",
              "      <td>2016-01-07</td>\n",
              "      <td>1107.699951</td>\n",
              "    </tr>\n",
              "    <tr>\n",
              "      <th>4</th>\n",
              "      <td>2016-01-08</td>\n",
              "      <td>1097.800049</td>\n",
              "    </tr>\n",
              "    <tr>\n",
              "      <th>...</th>\n",
              "      <td>...</td>\n",
              "      <td>...</td>\n",
              "    </tr>\n",
              "    <tr>\n",
              "      <th>1295</th>\n",
              "      <td>2021-03-16</td>\n",
              "      <td>1730.599976</td>\n",
              "    </tr>\n",
              "    <tr>\n",
              "      <th>1296</th>\n",
              "      <td>2021-03-17</td>\n",
              "      <td>1726.800049</td>\n",
              "    </tr>\n",
              "    <tr>\n",
              "      <th>1297</th>\n",
              "      <td>2021-03-18</td>\n",
              "      <td>1732.199951</td>\n",
              "    </tr>\n",
              "    <tr>\n",
              "      <th>1298</th>\n",
              "      <td>2021-03-19</td>\n",
              "      <td>1741.400024</td>\n",
              "    </tr>\n",
              "    <tr>\n",
              "      <th>1299</th>\n",
              "      <td>2021-03-19</td>\n",
              "      <td>1743.900024</td>\n",
              "    </tr>\n",
              "  </tbody>\n",
              "</table>\n",
              "<p>1300 rows × 2 columns</p>\n",
              "</div>"
            ],
            "text/plain": [
              "             ds            y\n",
              "0    2016-01-04  1075.099976\n",
              "1    2016-01-05  1078.400024\n",
              "2    2016-01-06  1091.900024\n",
              "3    2016-01-07  1107.699951\n",
              "4    2016-01-08  1097.800049\n",
              "...         ...          ...\n",
              "1295 2021-03-16  1730.599976\n",
              "1296 2021-03-17  1726.800049\n",
              "1297 2021-03-18  1732.199951\n",
              "1298 2021-03-19  1741.400024\n",
              "1299 2021-03-19  1743.900024\n",
              "\n",
              "[1300 rows x 2 columns]"
            ]
          },
          "metadata": {
            "tags": []
          },
          "execution_count": 10
        }
      ]
    },
    {
      "cell_type": "code",
      "metadata": {
        "colab": {
          "base_uri": "https://localhost:8080/",
          "height": 478
        },
        "id": "8XIxId4CJaIh",
        "outputId": "13f4c04d-481c-4f59-ef6f-d635b1aa8e61"
      },
      "source": [
        "ax = prophet_df.set_index('ds').plot(figsize=(12, 8))\n",
        "ax.set_ylabel('Price')\n",
        "ax.set_xlabel('Date')\n",
        "\n",
        "plt.show()"
      ],
      "execution_count": null,
      "outputs": [
        {
          "output_type": "display_data",
          "data": {
            "image/png": "[encoded data removed]",
            "text/plain": [
              "<Figure size 864x576 with 1 Axes>"
            ]
          },
          "metadata": {
            "tags": []
          }
        }
      ]
    },
    {
      "cell_type": "code",
      "metadata": {
        "colab": {
          "base_uri": "https://localhost:8080/"
        },
        "id": "i_nrwcysJaIi",
        "outputId": "e72efd70-cb2c-4248-d538-4afc7823daa6"
      },
      "source": [
        "model.fit(prophet_df)"
      ],
      "execution_count": null,
      "outputs": [
        {
          "output_type": "stream",
          "text": [
            "INFO:fbprophet:Disabling daily seasonality. Run prophet with daily_seasonality=True to override this.\n"
          ],
          "name": "stderr"
        },
        {
          "output_type": "execute_result",
          "data": {
            "text/plain": [
              "<fbprophet.forecaster.Prophet at 0x7fedd04d39d0>"
            ]
          },
          "metadata": {
            "tags": []
          },
          "execution_count": 12
        }
      ]
    },
    {
      "cell_type": "code",
      "metadata": {
        "id": "W-bicGzRJaIk"
      },
      "source": [
        "future=model.make_future_dataframe(periods=165)"
      ],
      "execution_count": null,
      "outputs": []
    },
    {
      "cell_type": "code",
      "metadata": {
        "colab": {
          "base_uri": "https://localhost:8080/",
          "height": 195
        },
        "id": "M2gcZglXJaIk",
        "outputId": "a659c1c6-dfc3-459a-9091-27421feb8046"
      },
      "source": [
        "future.tail()"
      ],
      "execution_count": null,
      "outputs": [
        {
          "output_type": "execute_result",
          "data": {
            "text/html": [
              "<div>\n",
              "<style scoped>\n",
              "    .dataframe tbody tr th:only-of-type {\n",
              "        vertical-align: middle;\n",
              "    }\n",
              "\n",
              "    .dataframe tbody tr th {\n",
              "        vertical-align: top;\n",
              "    }\n",
              "\n",
              "    .dataframe thead th {\n",
              "        text-align: right;\n",
              "    }\n",
              "</style>\n",
              "<table border=\"1\" class=\"dataframe\">\n",
              "  <thead>\n",
              "    <tr style=\"text-align: right;\">\n",
              "      <th></th>\n",
              "      <th>ds</th>\n",
              "    </tr>\n",
              "  </thead>\n",
              "  <tbody>\n",
              "    <tr>\n",
              "      <th>1459</th>\n",
              "      <td>2021-08-27</td>\n",
              "    </tr>\n",
              "    <tr>\n",
              "      <th>1460</th>\n",
              "      <td>2021-08-28</td>\n",
              "    </tr>\n",
              "    <tr>\n",
              "      <th>1461</th>\n",
              "      <td>2021-08-29</td>\n",
              "    </tr>\n",
              "    <tr>\n",
              "      <th>1462</th>\n",
              "      <td>2021-08-30</td>\n",
              "    </tr>\n",
              "    <tr>\n",
              "      <th>1463</th>\n",
              "      <td>2021-08-31</td>\n",
              "    </tr>\n",
              "  </tbody>\n",
              "</table>\n",
              "</div>"
            ],
            "text/plain": [
              "             ds\n",
              "1459 2021-08-27\n",
              "1460 2021-08-28\n",
              "1461 2021-08-29\n",
              "1462 2021-08-30\n",
              "1463 2021-08-31"
            ]
          },
          "metadata": {
            "tags": []
          },
          "execution_count": 14
        }
      ]
    },
    {
      "cell_type": "code",
      "metadata": {
        "colab": {
          "base_uri": "https://localhost:8080/",
          "height": 633
        },
        "id": "1v81Av28JaIl",
        "outputId": "ca9ad1f1-f199-45fe-f82c-a79e3c5ee892"
      },
      "source": [
        "predictions=model.predict(future)\n",
        "model.plot(predictions)\n",
        "plt.title(\"Prediction of Gold Stock Price\")\n",
        "plt.xlabel(\"Date\")\n",
        "plt.ylabel(\"Closing Stock Price\")\n",
        "plt.show()\n",
        "\n",
        "predictions[['ds', 'yhat', 'yhat_lower', 'yhat_upper']].tail()"
      ],
      "execution_count": null,
      "outputs": [
        {
          "output_type": "display_data",
          "data": {
            "image/png": "[encoded data removed]",
            "text/plain": [
              "<Figure size 720x432 with 1 Axes>"
            ]
          },
          "metadata": {
            "tags": []
          }
        },
        {
          "output_type": "execute_result",
          "data": {
            "text/html": [
              "<div>\n",
              "<style scoped>\n",
              "    .dataframe tbody tr th:only-of-type {\n",
              "        vertical-align: middle;\n",
              "    }\n",
              "\n",
              "    .dataframe tbody tr th {\n",
              "        vertical-align: top;\n",
              "    }\n",
              "\n",
              "    .dataframe thead th {\n",
              "        text-align: right;\n",
              "    }\n",
              "</style>\n",
              "<table border=\"1\" class=\"dataframe\">\n",
              "  <thead>\n",
              "    <tr style=\"text-align: right;\">\n",
              "      <th></th>\n",
              "      <th>ds</th>\n",
              "      <th>yhat</th>\n",
              "      <th>yhat_lower</th>\n",
              "      <th>yhat_upper</th>\n",
              "    </tr>\n",
              "  </thead>\n",
              "  <tbody>\n",
              "    <tr>\n",
              "      <th>1459</th>\n",
              "      <td>2021-08-27</td>\n",
              "      <td>2117.091649</td>\n",
              "      <td>1912.036557</td>\n",
              "      <td>2351.547592</td>\n",
              "    </tr>\n",
              "    <tr>\n",
              "      <th>1460</th>\n",
              "      <td>2021-08-28</td>\n",
              "      <td>2082.275771</td>\n",
              "      <td>1871.075298</td>\n",
              "      <td>2320.870991</td>\n",
              "    </tr>\n",
              "    <tr>\n",
              "      <th>1461</th>\n",
              "      <td>2021-08-29</td>\n",
              "      <td>2083.198400</td>\n",
              "      <td>1866.909558</td>\n",
              "      <td>2319.038359</td>\n",
              "    </tr>\n",
              "    <tr>\n",
              "      <th>1462</th>\n",
              "      <td>2021-08-30</td>\n",
              "      <td>2121.112254</td>\n",
              "      <td>1914.370947</td>\n",
              "      <td>2363.709334</td>\n",
              "    </tr>\n",
              "    <tr>\n",
              "      <th>1463</th>\n",
              "      <td>2021-08-31</td>\n",
              "      <td>2121.950237</td>\n",
              "      <td>1911.426020</td>\n",
              "      <td>2368.815923</td>\n",
              "    </tr>\n",
              "  </tbody>\n",
              "</table>\n",
              "</div>"
            ],
            "text/plain": [
              "             ds         yhat   yhat_lower   yhat_upper\n",
              "1459 2021-08-27  2117.091649  1912.036557  2351.547592\n",
              "1460 2021-08-28  2082.275771  1871.075298  2320.870991\n",
              "1461 2021-08-29  2083.198400  1866.909558  2319.038359\n",
              "1462 2021-08-30  2121.112254  1914.370947  2363.709334\n",
              "1463 2021-08-31  2121.950237  1911.426020  2368.815923"
            ]
          },
          "metadata": {
            "tags": []
          },
          "execution_count": 18
        }
      ]
    },
    {
      "cell_type": "code",
      "metadata": {
        "colab": {
          "base_uri": "https://localhost:8080/",
          "height": 649
        },
        "id": "5UQlt640JaIm",
        "outputId": "c050ae86-1064-4aac-d189-e91f6e39d5bc"
      },
      "source": [
        "model.plot_components(predictions)\n",
        "plt.show()"
      ],
      "execution_count": null,
      "outputs": [
        {
          "output_type": "display_data",
          "data": {
            "image/png": "[encoded data removed]",
            "text/plain": [
              "<Figure size 648x648 with 3 Axes>"
            ]
          },
          "metadata": {
            "tags": []
          }
        }
      ]
    },
    {
      "cell_type": "markdown",
      "metadata": {
        "id": "9lfEa-MRJaIo"
      },
      "source": [
        "There is no weekly seasonality "
      ]
    },
    {
      "cell_type": "code",
      "metadata": {
        "colab": {
          "base_uri": "https://localhost:8080/",
          "height": 195
        },
        "id": "hBcF0YIiJaIo",
        "outputId": "dacc229b-fa84-4d8f-eeb8-3ffe124698d0"
      },
      "source": [
        "predictions=model.predict(future)\n",
        "predictions[['ds','yhat','yhat_lower','yhat_upper']].tail()"
      ],
      "execution_count": null,
      "outputs": [
        {
          "output_type": "execute_result",
          "data": {
            "text/html": [
              "<div>\n",
              "<style scoped>\n",
              "    .dataframe tbody tr th:only-of-type {\n",
              "        vertical-align: middle;\n",
              "    }\n",
              "\n",
              "    .dataframe tbody tr th {\n",
              "        vertical-align: top;\n",
              "    }\n",
              "\n",
              "    .dataframe thead th {\n",
              "        text-align: right;\n",
              "    }\n",
              "</style>\n",
              "<table border=\"1\" class=\"dataframe\">\n",
              "  <thead>\n",
              "    <tr style=\"text-align: right;\">\n",
              "      <th></th>\n",
              "      <th>ds</th>\n",
              "      <th>yhat</th>\n",
              "      <th>yhat_lower</th>\n",
              "      <th>yhat_upper</th>\n",
              "    </tr>\n",
              "  </thead>\n",
              "  <tbody>\n",
              "    <tr>\n",
              "      <th>1459</th>\n",
              "      <td>2021-08-27</td>\n",
              "      <td>2117.091649</td>\n",
              "      <td>1854.949209</td>\n",
              "      <td>2321.886477</td>\n",
              "    </tr>\n",
              "    <tr>\n",
              "      <th>1460</th>\n",
              "      <td>2021-08-28</td>\n",
              "      <td>2082.275771</td>\n",
              "      <td>1819.252783</td>\n",
              "      <td>2291.703210</td>\n",
              "    </tr>\n",
              "    <tr>\n",
              "      <th>1461</th>\n",
              "      <td>2021-08-29</td>\n",
              "      <td>2083.198400</td>\n",
              "      <td>1814.664903</td>\n",
              "      <td>2304.693795</td>\n",
              "    </tr>\n",
              "    <tr>\n",
              "      <th>1462</th>\n",
              "      <td>2021-08-30</td>\n",
              "      <td>2121.112254</td>\n",
              "      <td>1857.316498</td>\n",
              "      <td>2337.106788</td>\n",
              "    </tr>\n",
              "    <tr>\n",
              "      <th>1463</th>\n",
              "      <td>2021-08-31</td>\n",
              "      <td>2121.950237</td>\n",
              "      <td>1837.330495</td>\n",
              "      <td>2342.857699</td>\n",
              "    </tr>\n",
              "  </tbody>\n",
              "</table>\n",
              "</div>"
            ],
            "text/plain": [
              "             ds         yhat   yhat_lower   yhat_upper\n",
              "1459 2021-08-27  2117.091649  1854.949209  2321.886477\n",
              "1460 2021-08-28  2082.275771  1819.252783  2291.703210\n",
              "1461 2021-08-29  2083.198400  1814.664903  2304.693795\n",
              "1462 2021-08-30  2121.112254  1857.316498  2337.106788\n",
              "1463 2021-08-31  2121.950237  1837.330495  2342.857699"
            ]
          },
          "metadata": {
            "tags": []
          },
          "execution_count": 17
        }
      ]
    },
    {
      "cell_type": "code",
      "metadata": {
        "id": "oW-uXlE-JaIp"
      },
      "source": [
        ""
      ],
      "execution_count": null,
      "outputs": []
    },
    {
      "cell_type": "code",
      "metadata": {
        "id": "thWSLpMmJaIq"
      },
      "source": [
        ""
      ],
      "execution_count": null,
      "outputs": []
    },
    {
      "cell_type": "code",
      "metadata": {
        "id": "deMzOGlGJaIq"
      },
      "source": [
        ""
      ],
      "execution_count": null,
      "outputs": []
    }
  ]
}